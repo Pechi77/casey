{
 "cells": [
  {
   "cell_type": "code",
   "execution_count": 2,
   "metadata": {},
   "outputs": [],
   "source": [
    "import logging\n",
    "from datetime import datetime, date\n",
    "\n",
    "import numpy as np\n",
    "import pandas as pd\n",
    "from scrapy.exceptions import DropItem\n",
    "from scrapy.exporters import BaseItemExporter\n",
    "from sqlalchemy import create_engine\n",
    "from sqlalchemy.exc import SQLAlchemyError\n",
    "from sqlalchemy.orm import sessionmaker\n",
    "from pandas.tseries.offsets import BDay\n",
    "\n",
    "from case_research.model import Base, CaseInfo"
   ]
  },
  {
   "cell_type": "code",
   "execution_count": 3,
   "metadata": {},
   "outputs": [],
   "source": [
    "username = \"admin\"\n",
    "password = \"admin\"\n",
    "host = \"localhost\"\n",
    "port = \"3306\"\n",
    "db = \"case_research_traffic\""
   ]
  },
  {
   "cell_type": "code",
   "execution_count": 4,
   "metadata": {},
   "outputs": [],
   "source": [
    "db_uri = f\"mysql+pymysql://{username}:{password}@{host}:{port}/{db}\"\n",
    "\n",
    "engine = create_engine(db_uri)\n",
    "session_maker = sessionmaker(bind=engine)"
   ]
  },
  {
   "cell_type": "code",
   "execution_count": 5,
   "metadata": {},
   "outputs": [],
   "source": [
    "session = session_maker()"
   ]
  },
  {
   "cell_type": "code",
   "execution_count": 6,
   "metadata": {},
   "outputs": [],
   "source": [
    "scraped_time = '06/07/2022 22:00'\n"
   ]
  },
  {
   "cell_type": "code",
   "execution_count": 7,
   "metadata": {},
   "outputs": [],
   "source": [
    "today_query = session.query(CaseInfo).filter_by(scraped_time=scraped_time)"
   ]
  },
  {
   "cell_type": "code",
   "execution_count": 8,
   "metadata": {},
   "outputs": [],
   "source": [
    "df = pd.read_sql(today_query.statement, today_query.session.bind)"
   ]
  },
  {
   "cell_type": "code",
   "execution_count": 9,
   "metadata": {},
   "outputs": [],
   "source": [
    "df = df.fillna(\"\")"
   ]
  },
  {
   "cell_type": "code",
   "execution_count": 10,
   "metadata": {},
   "outputs": [],
   "source": [
    "df = df[df[\"fine_amount_owed\"] != \"\"]"
   ]
  },
  {
   "cell_type": "code",
   "execution_count": 11,
   "metadata": {},
   "outputs": [],
   "source": [
    "df[\"fine_amount_owed\"] = df[\"fine_amount_owed\"].astype(float)"
   ]
  },
  {
   "cell_type": "code",
   "execution_count": 12,
   "metadata": {},
   "outputs": [],
   "source": [
    "df = df[np.isclose(df[\"fine_amount_owed\"], 0.0)]"
   ]
  },
  {
   "cell_type": "code",
   "execution_count": 13,
   "metadata": {},
   "outputs": [],
   "source": [
    "df = df[df[\"case_status\"].isin([\"Open\", \"ACTIVE CASE\", \n",
    "                    \"RESTRICTED CASE (OFFICER-ID INVALID)\"])]"
   ]
  },
  {
   "cell_type": "code",
   "execution_count": 14,
   "metadata": {},
   "outputs": [],
   "source": [
    "first_scraped_map = df.groupby(\"name\")[\"scraped_time\"].first().to_dict()"
   ]
  },
  {
   "cell_type": "code",
   "execution_count": 15,
   "metadata": {},
   "outputs": [],
   "source": [
    "agg = {\n",
    "            \"name\": \"first\",\n",
    "            \"address\": \"first\",\n",
    "            \"city\": \"first\",\n",
    "            \"state\": \"first\",\n",
    "            \"zip_code\": \"first\",\n",
    "            \"violation_county\": \"first\",\n",
    "            \"filling_date\": \"first\",\n",
    "            #! merge rows with this function\n",
    "            \"citation_number\": (lambda x: \", \".join(x)),\n",
    "            \"charge_description\": (lambda x: \", \".join(x)),\n",
    "            \"case_status\": \"first\",\n",
    "            \"fine_amount_owed\": \"first\",\n",
    "            \"scraped_time\": \"first\", # the current running date\n",
    "            \"link\": (lambda x: \", \".join(x)),\n",
    "        }\n"
   ]
  },
  {
   "cell_type": "code",
   "execution_count": 16,
   "metadata": {},
   "outputs": [],
   "source": [
    "df = df.groupby(\"name\").aggregate(agg, as_index=False)"
   ]
  },
  {
   "cell_type": "code",
   "execution_count": 17,
   "metadata": {},
   "outputs": [],
   "source": [
    "df = df.reset_index(drop=True)"
   ]
  },
  {
   "cell_type": "code",
   "execution_count": 18,
   "metadata": {},
   "outputs": [],
   "source": [
    "df[\"first_scraped_date\"] = df[\"name\"].map(first_scraped_map)"
   ]
  },
  {
   "cell_type": "code",
   "execution_count": 19,
   "metadata": {},
   "outputs": [],
   "source": [
    "df.to_csv(\"consolidated_traffic_1_6_july.csv\", index=False)"
   ]
  },
  {
   "cell_type": "code",
   "execution_count": 20,
   "metadata": {},
   "outputs": [
    {
     "data": {
      "text/plain": [
       "(195, 14)"
      ]
     },
     "execution_count": 20,
     "metadata": {},
     "output_type": "execute_result"
    }
   ],
   "source": [
    "df.shape"
   ]
  },
  {
   "cell_type": "code",
   "execution_count": null,
   "metadata": {},
   "outputs": [],
   "source": []
  }
 ],
 "metadata": {
  "kernelspec": {
   "display_name": "Python 3",
   "language": "python",
   "name": "python3"
  },
  "language_info": {
   "codemirror_mode": {
    "name": "ipython",
    "version": 3
   },
   "file_extension": ".py",
   "mimetype": "text/x-python",
   "name": "python",
   "nbconvert_exporter": "python",
   "pygments_lexer": "ipython3",
   "version": "3.7.4"
  }
 },
 "nbformat": 4,
 "nbformat_minor": 4
}
